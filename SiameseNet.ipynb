{
 "cells": [
  {
   "cell_type": "code",
   "execution_count": 2,
   "metadata": {},
   "outputs": [],
   "source": [
    "import tensorflow as tf\n",
    "from keras.layers import LSTM, Dense, Dropout, Input, Embedding, Bidirectional, Lambda\n",
    "from keras import Model\n",
    "from keras import backend as K\n",
    "from keras.utils import to_categorical\n",
    "from tensorflow.keras.preprocessing.text import Tokenizer\n",
    "from tensorflow.keras.preprocessing.sequence import pad_sequences\n",
    "\n",
    "import numpy as np\n",
    "import pandas as pd\n",
    "import matplotlib.pyplot as plt\n",
    "\n",
    "from tqdm import tqdm\n",
    "from sklearn.model_selection import train_test_split\n",
    "import spacy\n",
    "import en_core_web_sm"
   ]
  },
  {
   "cell_type": "code",
   "execution_count": 3,
   "metadata": {},
   "outputs": [
    {
     "data": {
      "text/html": [
       "<div>\n",
       "<style scoped>\n",
       "    .dataframe tbody tr th:only-of-type {\n",
       "        vertical-align: middle;\n",
       "    }\n",
       "\n",
       "    .dataframe tbody tr th {\n",
       "        vertical-align: top;\n",
       "    }\n",
       "\n",
       "    .dataframe thead th {\n",
       "        text-align: right;\n",
       "    }\n",
       "</style>\n",
       "<table border=\"1\" class=\"dataframe\">\n",
       "  <thead>\n",
       "    <tr style=\"text-align: right;\">\n",
       "      <th></th>\n",
       "      <th>question</th>\n",
       "      <th>class</th>\n",
       "    </tr>\n",
       "  </thead>\n",
       "  <tbody>\n",
       "    <tr>\n",
       "      <th>0</th>\n",
       "      <td>What is the customer obligated to do before pu...</td>\n",
       "      <td>1</td>\n",
       "    </tr>\n",
       "    <tr>\n",
       "      <th>1</th>\n",
       "      <td>What happens if the customer enters inaccurate...</td>\n",
       "      <td>1</td>\n",
       "    </tr>\n",
       "    <tr>\n",
       "      <th>2</th>\n",
       "      <td>What is the customer's responsibility at the t...</td>\n",
       "      <td>1</td>\n",
       "    </tr>\n",
       "    <tr>\n",
       "      <th>3</th>\n",
       "      <td>What should the customer avoid doing when rece...</td>\n",
       "      <td>1</td>\n",
       "    </tr>\n",
       "    <tr>\n",
       "      <th>4</th>\n",
       "      <td>What does the customer need to provide at the ...</td>\n",
       "      <td>1</td>\n",
       "    </tr>\n",
       "    <tr>\n",
       "      <th>...</th>\n",
       "      <td>...</td>\n",
       "      <td>...</td>\n",
       "    </tr>\n",
       "    <tr>\n",
       "      <th>1011</th>\n",
       "      <td>What is required for regular delivery, and how...</td>\n",
       "      <td>8</td>\n",
       "    </tr>\n",
       "    <tr>\n",
       "      <th>1012</th>\n",
       "      <td>What valid identity documents are acceptable f...</td>\n",
       "      <td>8</td>\n",
       "    </tr>\n",
       "    <tr>\n",
       "      <th>1013</th>\n",
       "      <td>What valid identity document is acceptable for...</td>\n",
       "      <td>8</td>\n",
       "    </tr>\n",
       "    <tr>\n",
       "      <th>1014</th>\n",
       "      <td>What actions can the Subscriber take if the po...</td>\n",
       "      <td>8</td>\n",
       "    </tr>\n",
       "    <tr>\n",
       "      <th>1015</th>\n",
       "      <td>How long does the customer have to wait for re...</td>\n",
       "      <td>8</td>\n",
       "    </tr>\n",
       "  </tbody>\n",
       "</table>\n",
       "<p>1016 rows × 2 columns</p>\n",
       "</div>"
      ],
      "text/plain": [
       "                                               question class\n",
       "0     What is the customer obligated to do before pu...     1\n",
       "1     What happens if the customer enters inaccurate...     1\n",
       "2     What is the customer's responsibility at the t...     1\n",
       "3     What should the customer avoid doing when rece...     1\n",
       "4     What does the customer need to provide at the ...     1\n",
       "...                                                 ...   ...\n",
       "1011  What is required for regular delivery, and how...     8\n",
       "1012  What valid identity documents are acceptable f...     8\n",
       "1013  What valid identity document is acceptable for...     8\n",
       "1014  What actions can the Subscriber take if the po...     8\n",
       "1015  How long does the customer have to wait for re...     8\n",
       "\n",
       "[1016 rows x 2 columns]"
      ]
     },
     "execution_count": 3,
     "metadata": {},
     "output_type": "execute_result"
    }
   ],
   "source": [
    "# preparin question/class datast to train Siamese Net\n",
    "\n",
    "original_questions_dataset = pd.DataFrame(columns=['question', 'class'])\n",
    "question_paths = [r'questions\\1_3g4G modem.txt',\n",
    "                  r'questions\\2_Change of Ownership.txt',\n",
    "                  r'questions\\3_Economical Packages.txt',\n",
    "                  r'questions\\4_FTTH Service.txt',\n",
    "                  r'questions\\5_Participate in auction.txt',\n",
    "                  r'questions\\6_Postpaid SIM.txt',\n",
    "                  r'questions\\7_Prepaid SIM.txt',\n",
    "                  r'questions\\8_TD-LTE modem.txt']\n",
    "\n",
    "for index, path in enumerate(question_paths):\n",
    "    tmp_dataset = pd.read_csv(path, sep='\\n\\n', header=None, engine='python')\n",
    "    tmp_dataset.columns = ['question']\n",
    "    tmp_dataset['class'] = index+1\n",
    "    original_questions_dataset = pd.concat(\n",
    "        [original_questions_dataset, tmp_dataset], ignore_index=True)\n",
    "\n",
    "original_questions_dataset"
   ]
  },
  {
   "cell_type": "markdown",
   "metadata": {},
   "source": [
    "## Doing Pre-Processing On Questions\n"
   ]
  },
  {
   "cell_type": "code",
   "execution_count": 4,
   "metadata": {},
   "outputs": [
    {
     "data": {
      "text/html": [
       "<div>\n",
       "<style scoped>\n",
       "    .dataframe tbody tr th:only-of-type {\n",
       "        vertical-align: middle;\n",
       "    }\n",
       "\n",
       "    .dataframe tbody tr th {\n",
       "        vertical-align: top;\n",
       "    }\n",
       "\n",
       "    .dataframe thead th {\n",
       "        text-align: right;\n",
       "    }\n",
       "</style>\n",
       "<table border=\"1\" class=\"dataframe\">\n",
       "  <thead>\n",
       "    <tr style=\"text-align: right;\">\n",
       "      <th></th>\n",
       "      <th>question</th>\n",
       "      <th>class</th>\n",
       "    </tr>\n",
       "  </thead>\n",
       "  <tbody>\n",
       "    <tr>\n",
       "      <th>0</th>\n",
       "      <td>customer obligate purchase mobile modem ?</td>\n",
       "      <td>1</td>\n",
       "    </tr>\n",
       "    <tr>\n",
       "      <th>1</th>\n",
       "      <td>happen customer enter inaccurate identity info...</td>\n",
       "      <td>1</td>\n",
       "    </tr>\n",
       "    <tr>\n",
       "      <th>2</th>\n",
       "      <td>customer responsibility time deliver package ?</td>\n",
       "      <td>1</td>\n",
       "    </tr>\n",
       "    <tr>\n",
       "      <th>3</th>\n",
       "      <td>customer avoid receive package postman ?</td>\n",
       "      <td>1</td>\n",
       "    </tr>\n",
       "    <tr>\n",
       "      <th>4</th>\n",
       "      <td>customer need provide time place order ?</td>\n",
       "      <td>1</td>\n",
       "    </tr>\n",
       "  </tbody>\n",
       "</table>\n",
       "</div>"
      ],
      "text/plain": [
       "                                            question class\n",
       "0          customer obligate purchase mobile modem ?     1\n",
       "1  happen customer enter inaccurate identity info...     1\n",
       "2     customer responsibility time deliver package ?     1\n",
       "3           customer avoid receive package postman ?     1\n",
       "4           customer need provide time place order ?     1"
      ]
     },
     "execution_count": 4,
     "metadata": {},
     "output_type": "execute_result"
    }
   ],
   "source": [
    "nlp = en_core_web_sm.load()\n",
    "questions_dataset = pd.DataFrame(columns=['question', 'class'])\n",
    "\n",
    "\n",
    "def preProcessing(doc):\n",
    "    text_without_stop_words = [t.text for t in nlp(doc) if not t.is_stop]\n",
    "    text_without_stop_words = \" \".join(text_without_stop_words)\n",
    "    lemmas = [t.lemma_ for t in nlp(text_without_stop_words)]\n",
    "    return \" \".join(lemmas)\n",
    "\n",
    "\n",
    "questions_dataset['question'] = original_questions_dataset['question'].map(\n",
    "    preProcessing)\n",
    "questions_dataset['class'] = original_questions_dataset['class']\n",
    "questions_dataset.head()"
   ]
  },
  {
   "cell_type": "code",
   "execution_count": 5,
   "metadata": {},
   "outputs": [
    {
     "data": {
      "text/html": [
       "<div>\n",
       "<style scoped>\n",
       "    .dataframe tbody tr th:only-of-type {\n",
       "        vertical-align: middle;\n",
       "    }\n",
       "\n",
       "    .dataframe tbody tr th {\n",
       "        vertical-align: top;\n",
       "    }\n",
       "\n",
       "    .dataframe thead th {\n",
       "        text-align: right;\n",
       "    }\n",
       "</style>\n",
       "<table border=\"1\" class=\"dataframe\">\n",
       "  <thead>\n",
       "    <tr style=\"text-align: right;\">\n",
       "      <th></th>\n",
       "      <th>text</th>\n",
       "      <th>class</th>\n",
       "    </tr>\n",
       "  </thead>\n",
       "  <tbody>\n",
       "    <tr>\n",
       "      <th>0</th>\n",
       "      <td>Customer Obligations: Before purchasing any mo...</td>\n",
       "      <td>1</td>\n",
       "    </tr>\n",
       "    <tr>\n",
       "      <th>1</th>\n",
       "      <td>Before changing SIM card ownership, the seller...</td>\n",
       "      <td>2</td>\n",
       "    </tr>\n",
       "    <tr>\n",
       "      <th>2</th>\n",
       "      <td>Economical Package: the subscriber can use unl...</td>\n",
       "      <td>3</td>\n",
       "    </tr>\n",
       "    <tr>\n",
       "      <th>3</th>\n",
       "      <td>Customer Obligations: Before purchasing, the C...</td>\n",
       "      <td>4</td>\n",
       "    </tr>\n",
       "    <tr>\n",
       "      <th>4</th>\n",
       "      <td>The subscribers shall accept the following ter...</td>\n",
       "      <td>5</td>\n",
       "    </tr>\n",
       "    <tr>\n",
       "      <th>5</th>\n",
       "      <td>To use Irancell online store services, the App...</td>\n",
       "      <td>6</td>\n",
       "    </tr>\n",
       "    <tr>\n",
       "      <th>6</th>\n",
       "      <td>To use Irancell online store services, the App...</td>\n",
       "      <td>7</td>\n",
       "    </tr>\n",
       "    <tr>\n",
       "      <th>7</th>\n",
       "      <td>Customer Obligations: Before purchasing any TD...</td>\n",
       "      <td>8</td>\n",
       "    </tr>\n",
       "  </tbody>\n",
       "</table>\n",
       "</div>"
      ],
      "text/plain": [
       "                                                text class\n",
       "0  Customer Obligations: Before purchasing any mo...     1\n",
       "1  Before changing SIM card ownership, the seller...     2\n",
       "2  Economical Package: the subscriber can use unl...     3\n",
       "3  Customer Obligations: Before purchasing, the C...     4\n",
       "4  The subscribers shall accept the following ter...     5\n",
       "5  To use Irancell online store services, the App...     6\n",
       "6  To use Irancell online store services, the App...     7\n",
       "7  Customer Obligations: Before purchasing any TD...     8"
      ]
     },
     "execution_count": 5,
     "metadata": {},
     "output_type": "execute_result"
    }
   ],
   "source": [
    "texts_dataset = pd.DataFrame(columns=['text', 'class'])\n",
    "text_paths = [r'data\\1_3g4G modem.txt',\n",
    "              r'data\\2_Change of Ownership.txt',\n",
    "              r'data\\3_Economical Packages.txt',\n",
    "              r'data\\4_FTTH Service.txt',\n",
    "              r'data\\5_Participate in auction.txt',\n",
    "              r'data\\6_Postpaid SIM.txt',\n",
    "              r'data\\7_Prepaid SIM.txt',\n",
    "              r'data\\8_TD-LTE modem.txt']\n",
    "\n",
    "for index, path in enumerate(text_paths):\n",
    "    texts = pd.read_csv(path, sep='\\n\\n', header=None,\n",
    "                        engine='python')[0].str.cat(sep=\" \")\n",
    "    tmp_dataset = pd.DataFrame([texts], columns=['text'])\n",
    "    tmp_dataset.columns = ['text']\n",
    "    tmp_dataset['class'] = index+1\n",
    "    texts_dataset = pd.concat([texts_dataset, tmp_dataset], ignore_index=True)\n",
    "\n",
    "texts_dataset"
   ]
  },
  {
   "cell_type": "code",
   "execution_count": 6,
   "metadata": {},
   "outputs": [],
   "source": [
    "# preparing word tokenizer\n",
    "tokens = \" \".join(questions_dataset['question']).split()\n",
    "\n",
    "MAX_LEN = 40\n",
    "vocab_size = 1000\n",
    "embed_size = 100  # ==> 50\n",
    "oov_token = '<UNK>'\n",
    "pad_type = 'post'\n",
    "trunc_type = 'post'\n",
    "\n",
    "tokenizer = Tokenizer(num_words=vocab_size, oov_token=oov_token)\n",
    "tokenizer.fit_on_texts(tokens)"
   ]
  },
  {
   "cell_type": "markdown",
   "metadata": {},
   "source": [
    "## Using Pre-Trained Word Embedding\n"
   ]
  },
  {
   "cell_type": "code",
   "execution_count": 6,
   "metadata": {},
   "outputs": [
    {
     "name": "stdout",
     "output_type": "stream",
     "text": [
      "Found 400000 word vectors.\n"
     ]
    }
   ],
   "source": [
    "# path_to_glove_file = \"glove\\glove.6B.100d.txt\"\n",
    "path_to_glove_file = 'glove\\glove.6B.50d.txt'\n",
    "\n",
    "embeddings_index = {}\n",
    "with open(path_to_glove_file) as f:\n",
    "    for line in f:\n",
    "        word, coefs = line.split(maxsplit=1)\n",
    "        coefs = np.fromstring(coefs, \"f\", sep=\" \")\n",
    "        embeddings_index[word] = coefs\n",
    "\n",
    "print(\"Found %s word vectors.\" % len(embeddings_index))"
   ]
  },
  {
   "cell_type": "code",
   "execution_count": 7,
   "metadata": {},
   "outputs": [
    {
     "data": {
      "text/plain": [
       "400000"
      ]
     },
     "execution_count": 7,
     "metadata": {},
     "output_type": "execute_result"
    }
   ],
   "source": [
    "glove_word_index = {word: index for index,\n",
    "                    word in enumerate(embeddings_index.keys())}\n",
    "len(glove_word_index)"
   ]
  },
  {
   "cell_type": "code",
   "execution_count": 14,
   "metadata": {},
   "outputs": [
    {
     "name": "stdout",
     "output_type": "stream",
     "text": [
      "Converted 400000 words (0 misses)\n"
     ]
    }
   ],
   "source": [
    "# word_index = tokenizer.word_index\n",
    "word_index = glove_word_index\n",
    "num_tokens = len(word_index) + 2\n",
    "embedding_dim = 50\n",
    "hits = 0\n",
    "misses = 0\n",
    "\n",
    "# Prepare embedding matrix\n",
    "embedding_matrix = np.zeros((num_tokens, embedding_dim))\n",
    "for word, i in word_index.items():\n",
    "    embedding_vector = embeddings_index.get(word)\n",
    "    if embedding_vector is not None:\n",
    "        # Words not found in embedding index will be all-zeros.\n",
    "        # This includes the representation for \"padding\" and \"OOV\"\n",
    "        embedding_matrix[i] = embedding_vector\n",
    "        hits += 1\n",
    "    else:\n",
    "        misses += 1\n",
    "print(\"Converted %d words (%d misses)\" % (hits, misses))"
   ]
  },
  {
   "cell_type": "markdown",
   "metadata": {},
   "source": [
    "## LSTM model for first part of Siamese Network\n"
   ]
  },
  {
   "cell_type": "code",
   "execution_count": 15,
   "metadata": {},
   "outputs": [
    {
     "data": {
      "text/plain": [
       "<tensorflow.python.checkpoint.checkpoint.CheckpointLoadStatus at 0x2e81cd3ed10>"
      ]
     },
     "execution_count": 15,
     "metadata": {},
     "output_type": "execute_result"
    }
   ],
   "source": [
    "MAX_LEN = 40\n",
    "\n",
    "first_sent_in = Input(shape=(MAX_LEN, ))\n",
    "second_sent_in = Input(shape=(MAX_LEN, ))\n",
    "\n",
    "embedding_layer = Embedding(input_dim=num_tokens,\n",
    "                            output_dim=embedding_dim,\n",
    "                            input_length=MAX_LEN,\n",
    "                            trainable=True,\n",
    "                            mask_zero=True)\n",
    "embedding_layer.build((1,))\n",
    "embedding_layer.set_weights([embedding_matrix])\n",
    "\n",
    "first_sent_embedding = embedding_layer(first_sent_in)\n",
    "second_sent_embedding = embedding_layer(second_sent_in)\n",
    "\n",
    "lstm = Bidirectional(LSTM(units=256,\n",
    "                          return_sequences=False))\n",
    "\n",
    "first_sent_encoded = lstm(first_sent_embedding)\n",
    "second_sent_encoded = lstm(second_sent_embedding)\n",
    "def l1_norm(x): return 1 - K.abs(x[0] - x[1])\n",
    "\n",
    "\n",
    "merged = Lambda(function=l1_norm,\n",
    "                output_shape=lambda x: x[0],\n",
    "                name='L1_distance')([first_sent_encoded, second_sent_encoded])\n",
    "\n",
    "predictions = Dense(1, activation='sigmoid',\n",
    "                    name='classification_layer')(merged)\n",
    "\n",
    "model = Model([first_sent_in, second_sent_in], predictions)\n",
    "\n",
    "model.compile(loss='binary_crossentropy',\n",
    "              optimizer=\"adam\",\n",
    "              metrics=[\"accuracy\"])\n",
    "\n",
    "path = r'models/lstm_siameseNet/'\n",
    "model.load_weights(path)\n",
    "# model.save_weights(path)"
   ]
  },
  {
   "cell_type": "code",
   "execution_count": 121,
   "metadata": {},
   "outputs": [
    {
     "name": "stdout",
     "output_type": "stream",
     "text": [
      "Model: \"model\"\n",
      "__________________________________________________________________________________________________\n",
      " Layer (type)                   Output Shape         Param #     Connected to                     \n",
      "==================================================================================================\n",
      " input_1 (InputLayer)           [(None, 40)]         0           []                               \n",
      "                                                                                                  \n",
      " input_2 (InputLayer)           [(None, 40)]         0           []                               \n",
      "                                                                                                  \n",
      " embedding (Embedding)          (None, 40, 50)       20000100    ['input_1[0][0]',                \n",
      "                                                                  'input_2[0][0]']                \n",
      "                                                                                                  \n",
      " bidirectional (Bidirectional)  (None, 512)          628736      ['embedding[0][0]',              \n",
      "                                                                  'embedding[1][0]']              \n",
      "                                                                                                  \n",
      " L1_distance (Lambda)           (None, 512)          0           ['bidirectional[0][0]',          \n",
      "                                                                  'bidirectional[1][0]']          \n",
      "                                                                                                  \n",
      " classification_layer (Dense)   (None, 1)            513         ['L1_distance[0][0]']            \n",
      "                                                                                                  \n",
      "==================================================================================================\n",
      "Total params: 20,629,349\n",
      "Trainable params: 20,629,349\n",
      "Non-trainable params: 0\n",
      "__________________________________________________________________________________________________\n"
     ]
    }
   ],
   "source": [
    "model.summary()"
   ]
  },
  {
   "cell_type": "code",
   "execution_count": 6,
   "metadata": {},
   "outputs": [],
   "source": [
    "x_train, x_test, y_train, y_test = train_test_split(\n",
    "    questions_dataset['question'].values, questions_dataset['class'].values, test_size=0.2, shuffle=True)\n",
    "\n",
    "x_train = tokenizer.texts_to_sequences(x_train)\n",
    "x_train = pad_sequences(x_train, padding=pad_type,\n",
    "                        truncating=trunc_type, maxlen=MAX_LEN)\n",
    "\n",
    "x_test = tokenizer.texts_to_sequences(x_test)\n",
    "x_test = pad_sequences(x_test, padding=pad_type,\n",
    "                       truncating=trunc_type, maxlen=MAX_LEN)\n",
    "\n",
    "y_train_encoded = to_categorical(y_train)\n",
    "y_test_encoded = to_categorical(y_test)"
   ]
  },
  {
   "cell_type": "markdown",
   "metadata": {},
   "source": [
    "### Training LSTM\n"
   ]
  },
  {
   "cell_type": "code",
   "execution_count": 24,
   "metadata": {},
   "outputs": [
    {
     "name": "stderr",
     "output_type": "stream",
     "text": [
      "100%|██████████| 1000/1000 [06:09<00:00,  2.71it/s]\n"
     ]
    }
   ],
   "source": [
    "train_length = len(x_train)\n",
    "\n",
    "for i in tqdm(range(1000)):\n",
    "\n",
    "    batch_size = 512\n",
    "    indexes1 = np.random.randint(0, train_length, batch_size)\n",
    "    questions1 = np.array([x_train[index] for index in indexes1])\n",
    "\n",
    "    indexes2 = np.random.randint(0, train_length, batch_size)\n",
    "    questions2 = np.array([x_train[index] for index in indexes2])\n",
    "\n",
    "    labels = np.array([1 if y_train[index1] == y_train[index2]\n",
    "                      else 0 for index1, index2 in zip(indexes1, indexes2)])\n",
    "\n",
    "    model.fit(x=[questions1, questions2], y=labels, epochs=1, verbose=0)\n",
    "\n",
    "model.save_weights(path)"
   ]
  },
  {
   "cell_type": "code",
   "execution_count": 25,
   "metadata": {},
   "outputs": [
    {
     "name": "stdout",
     "output_type": "stream",
     "text": [
      "1/1 [==============================] - 3s 3s/step\n",
      "[[0. 0. 0. 0. 0. 0. 0. 0. 0. 1. 0. 0. 0. 0. 0. 0. 0. 0. 0. 0. 0. 0. 0. 0.\n",
      "  0. 0. 0. 0. 0. 0.]]\n"
     ]
    }
   ],
   "source": [
    "# validating\n",
    "fsents = questions_dataset[questions_dataset['class'] == 7]['question']\n",
    "\n",
    "fsents = tokenizer.texts_to_sequences(fsents)\n",
    "\n",
    "fsents = pad_sequences(fsents, padding=pad_type,\n",
    "                       truncating=trunc_type, maxlen=MAX_LEN)\n",
    "\n",
    "ssents = questions_dataset[questions_dataset['class'] == 6]['question']\n",
    "\n",
    "ssents = tokenizer.texts_to_sequences(ssents)\n",
    "\n",
    "ssents = pad_sequences(ssents, padding=pad_type,\n",
    "                       truncating=trunc_type, maxlen=MAX_LEN)\n",
    "\n",
    "predictions = model.predict([fsents[:30], ssents[:30]])\n",
    "\n",
    "print(np.round(predictions).reshape(1, -1))"
   ]
  },
  {
   "cell_type": "code",
   "execution_count": 60,
   "metadata": {},
   "outputs": [],
   "source": [
    "path = r'models/lstm_siameseNet/'\n",
    "model.load_weights(path)\n",
    "\n",
    "dense1 = Dense(32, activation='tanh', name='dense1')\n",
    "dense2 = Dense(32, activation='tanh', name='dense2')\n",
    "classifier = Dense(9, activation='softmax', name='classifier_layer')\n",
    "\n",
    "# input must be tokenized\n",
    "siamese_net = tf.keras.models.Sequential()\n",
    "siamese_net.add(Input(shape=(MAX_LEN, )))\n",
    "\n",
    "embedding_layer = model.layers[2]\n",
    "embedding_layer.trainable = False\n",
    "siamese_net.add(embedding_layer)\n",
    "\n",
    "lstm = model.layers[3]  # bidirectional lstm\n",
    "lstm.trainable = False\n",
    "siamese_net.add(lstm)\n",
    "\n",
    "siamese_net.add(dense1)\n",
    "siamese_net.add(Dropout(0.2))\n",
    "siamese_net.add(dense2)\n",
    "siamese_net.add(Dropout(0.2))\n",
    "siamese_net.add(classifier)\n",
    "\n",
    "siamese_net.compile(loss='categorical_crossentropy',\n",
    "                    optimizer=\"RMSprop\",\n",
    "                    metrics=[\"accuracy\"])\n",
    "\n",
    "\n",
    "callback = tf.keras.callbacks.ModelCheckpoint(filepath=r'models/siamese_net/',\n",
    "                                              save_best_only=True,\n",
    "                                              save_weights_only=True,\n",
    "                                              monitor='val_accuracy',\n",
    "                                              mode='max')\n",
    "\n",
    "# siamese_net.load_weights(r'models\\siamese_net')"
   ]
  },
  {
   "cell_type": "code",
   "execution_count": 61,
   "metadata": {},
   "outputs": [
    {
     "name": "stdout",
     "output_type": "stream",
     "text": [
      "Epoch 1/20\n",
      "7/7 [==============================] - 7s 381ms/step - loss: 1.6635 - accuracy: 0.4988 - val_loss: 1.1686 - val_accuracy: 0.7304\n",
      "Epoch 2/20\n",
      "7/7 [==============================] - 1s 82ms/step - loss: 0.9076 - accuracy: 0.8399 - val_loss: 0.9234 - val_accuracy: 0.7696\n",
      "Epoch 3/20\n",
      "7/7 [==============================] - 0s 67ms/step - loss: 0.6693 - accuracy: 0.8941 - val_loss: 0.7996 - val_accuracy: 0.7745\n",
      "Epoch 4/20\n",
      "7/7 [==============================] - 0s 18ms/step - loss: 0.5305 - accuracy: 0.9064 - val_loss: 0.7639 - val_accuracy: 0.7696\n",
      "Epoch 5/20\n",
      "7/7 [==============================] - 0s 18ms/step - loss: 0.4579 - accuracy: 0.9027 - val_loss: 0.7363 - val_accuracy: 0.7647\n",
      "Epoch 6/20\n",
      "7/7 [==============================] - 0s 61ms/step - loss: 0.3910 - accuracy: 0.9126 - val_loss: 0.7029 - val_accuracy: 0.7843\n",
      "Epoch 7/20\n",
      "7/7 [==============================] - 0s 17ms/step - loss: 0.3537 - accuracy: 0.9224 - val_loss: 0.7039 - val_accuracy: 0.7745\n",
      "Epoch 8/20\n",
      "7/7 [==============================] - 0s 17ms/step - loss: 0.3326 - accuracy: 0.9175 - val_loss: 0.7000 - val_accuracy: 0.7794\n",
      "Epoch 9/20\n",
      "7/7 [==============================] - 0s 16ms/step - loss: 0.2888 - accuracy: 0.9286 - val_loss: 0.7077 - val_accuracy: 0.7794\n",
      "Epoch 10/20\n",
      "7/7 [==============================] - 0s 17ms/step - loss: 0.2722 - accuracy: 0.9163 - val_loss: 0.7071 - val_accuracy: 0.7745\n",
      "Epoch 11/20\n",
      "7/7 [==============================] - 0s 13ms/step - loss: 0.2586 - accuracy: 0.9200 - val_loss: 0.7249 - val_accuracy: 0.7745\n",
      "Epoch 12/20\n",
      "7/7 [==============================] - 0s 13ms/step - loss: 0.2455 - accuracy: 0.9175 - val_loss: 0.7425 - val_accuracy: 0.7647\n",
      "Epoch 13/20\n",
      "7/7 [==============================] - 0s 17ms/step - loss: 0.2256 - accuracy: 0.9163 - val_loss: 0.7485 - val_accuracy: 0.7794\n",
      "Epoch 14/20\n",
      "7/7 [==============================] - 0s 15ms/step - loss: 0.2145 - accuracy: 0.9175 - val_loss: 0.7415 - val_accuracy: 0.7745\n",
      "Epoch 15/20\n",
      "7/7 [==============================] - 0s 15ms/step - loss: 0.2228 - accuracy: 0.9126 - val_loss: 0.7527 - val_accuracy: 0.7745\n",
      "Epoch 16/20\n",
      "7/7 [==============================] - 0s 13ms/step - loss: 0.2065 - accuracy: 0.9298 - val_loss: 0.7482 - val_accuracy: 0.7794\n",
      "Epoch 17/20\n",
      "7/7 [==============================] - 0s 13ms/step - loss: 0.1974 - accuracy: 0.9286 - val_loss: 0.7561 - val_accuracy: 0.7843\n",
      "Epoch 18/20\n",
      "7/7 [==============================] - 0s 16ms/step - loss: 0.2002 - accuracy: 0.9224 - val_loss: 0.7757 - val_accuracy: 0.7745\n",
      "Epoch 19/20\n",
      "7/7 [==============================] - 0s 19ms/step - loss: 0.1940 - accuracy: 0.9212 - val_loss: 0.7787 - val_accuracy: 0.7794\n",
      "Epoch 20/20\n",
      "7/7 [==============================] - 0s 14ms/step - loss: 0.2005 - accuracy: 0.9187 - val_loss: 0.7905 - val_accuracy: 0.7794\n"
     ]
    }
   ],
   "source": [
    "history = siamese_net.fit(x_train,\n",
    "                          y_train_encoded,\n",
    "                          batch_size=128,\n",
    "                          epochs=20,\n",
    "                          verbose=1,\n",
    "                          validation_data=(x_test, y_test_encoded),\n",
    "                          callbacks=[callback])"
   ]
  },
  {
   "cell_type": "code",
   "execution_count": 63,
   "metadata": {},
   "outputs": [
    {
     "name": "stdout",
     "output_type": "stream",
     "text": [
      "7/7 [==============================] - 0s 11ms/step - loss: 0.9465 - accuracy: 0.7990\n"
     ]
    },
    {
     "data": {
      "text/plain": [
       "[0.9465023279190063, 0.7990196347236633]"
      ]
     },
     "execution_count": 63,
     "metadata": {},
     "output_type": "execute_result"
    }
   ],
   "source": [
    "# siamese_net.load_weights(r'models\\siamese_net')\n",
    "# siamese_net.save('models/siamese_complete_model/model.h5')\n",
    "siamese_net.evaluate(x_test, y_test_encoded)"
   ]
  },
  {
   "cell_type": "code",
   "execution_count": 64,
   "metadata": {},
   "outputs": [
    {
     "data": {
      "text/plain": [
       "[<matplotlib.lines.Line2D at 0x2e8cb0cbc40>]"
      ]
     },
     "execution_count": 64,
     "metadata": {},
     "output_type": "execute_result"
    },
    {
     "data": {
      "image/png": "[encoded data removed]",
      "text/plain": [
       "<Figure size 640x480 with 1 Axes>"
      ]
     },
     "metadata": {},
     "output_type": "display_data"
    }
   ],
   "source": [
    "plt.plot(history.history['accuracy'])\n",
    "plt.plot(history.history['val_accuracy'])"
   ]
  },
  {
   "cell_type": "code",
   "execution_count": 65,
   "metadata": {},
   "outputs": [
    {
     "data": {
      "text/plain": [
       "[<matplotlib.lines.Line2D at 0x2e8cb39bd30>]"
      ]
     },
     "execution_count": 65,
     "metadata": {},
     "output_type": "execute_result"
    },
    {
     "data": {
      "image/png": "[encoded data removed]",
      "text/plain": [
       "<Figure size 640x480 with 1 Axes>"
      ]
     },
     "metadata": {},
     "output_type": "display_data"
    }
   ],
   "source": [
    "plt.plot(history.history['loss'])\n",
    "plt.plot(history.history['val_loss'])"
   ]
  },
  {
   "cell_type": "markdown",
   "metadata": {},
   "source": [
    "# Inference\n"
   ]
  },
  {
   "cell_type": "code",
   "execution_count": 7,
   "metadata": {},
   "outputs": [
    {
     "name": "stderr",
     "output_type": "stream",
     "text": [
      "All model checkpoint layers were used when initializing TFBertForQuestionAnswering.\n",
      "\n",
      "All the layers of TFBertForQuestionAnswering were initialized from the model checkpoint at models/QA_model/.\n",
      "If your task is similar to the task the model of the checkpoint was trained on, you can already use TFBertForQuestionAnswering for predictions without further training.\n",
      "All model checkpoint layers were used when initializing TFBertForQuestionAnswering.\n",
      "\n",
      "All the layers of TFBertForQuestionAnswering were initialized from the model checkpoint at models/QA_model/.\n",
      "If your task is similar to the task the model of the checkpoint was trained on, you can already use TFBertForQuestionAnswering for predictions without further training.\n"
     ]
    },
    {
     "name": "stdout",
     "output_type": "stream",
     "text": [
      "WARNING:tensorflow:Error in loading the saved optimizer state. As a result, your model is starting with a freshly initialized optimizer.\n",
      "Model: \"tf_bert_for_question_answering\"\n",
      "_________________________________________________________________\n",
      " Layer (type)                Output Shape              Param #   \n",
      "=================================================================\n",
      " bert (TFBertMainLayer)      multiple                  107719680 \n",
      "                                                                 \n",
      " qa_outputs (Dense)          multiple                  1538      \n",
      "                                                                 \n",
      "=================================================================\n",
      "Total params: 107,721,218\n",
      "Trainable params: 107,721,218\n",
      "Non-trainable params: 0\n",
      "_________________________________________________________________\n"
     ]
    }
   ],
   "source": [
    "from transformers import TFAutoModelForQuestionAnswering\n",
    "from transformers import AutoTokenizer\n",
    "from transformers import pipeline\n",
    "from keras.models import load_model\n",
    "\n",
    "model_checkpoint = \"bert-base-cased\"\n",
    "qa_tokenizer = AutoTokenizer.from_pretrained(model_checkpoint)\n",
    "\n",
    "model_checkpoint = 'models/QA_model/'\n",
    "qa_model = TFAutoModelForQuestionAnswering.from_pretrained(model_checkpoint)\n",
    "\n",
    "model_checkpoint = 'models/QA_model/'\n",
    "QA_pipeline = pipeline(\"question-answering\",\n",
    "                       model=model_checkpoint, tokenizer=qa_tokenizer)\n",
    "\n",
    "siamese_net = load_model('models/siamese_complete_model/model.h5')\n",
    "qa_model.summary()"
   ]
  },
  {
   "cell_type": "code",
   "execution_count": 14,
   "metadata": {},
   "outputs": [
    {
     "name": "stdout",
     "output_type": "stream",
     "text": [
      "Original Class: |1_3g4G modem| & Predicted Class: |1_3g4G modem|\n",
      "Question: What does the Customer need to check before purchasing a mobile modem according to the text?\n",
      "Answer: Irancell network coverage\n",
      "\n",
      "Original Class: |5_Participate in auction| & Predicted Class: |5_Participate in auction|\n",
      "Question: What options are available to a Bidder if they win several bids simultaneously, exceeding the SIM card ownership limit?\n",
      "Answer: he can pay the full price of each SIM card\n",
      "\n",
      "Original Class: |7_Prepaid SIM| & Predicted Class: |7_Prepaid SIM|\n",
      "Question: What information is included in the hard copy of the registration form provided during delivery?\n",
      "Answer: particulars of the SIM Card owner\n",
      "\n",
      "Original Class: |8_TD-LTE modem| & Predicted Class: |8_TD-LTE modem|\n",
      "Question: Why is the return of dual-purpose modems (TD&FD Support) not possible?\n",
      "Answer: provision of any mobile or fixed internet services\n",
      "\n",
      "Original Class: |7_Prepaid SIM| & Predicted Class: |7_Prepaid SIM|\n",
      "Question: What are the requirements for regular delivery of a SIM Card, and how long does it take for the SIM Card to be delivered?\n",
      "Answer: within 7 working days\n",
      "\n",
      "Original Class: |8_TD-LTE modem| & Predicted Class: |8_TD-LTE modem|\n",
      "Question: How can customers ask for a refund within 7 business days after activating their product?\n",
      "Answer: SIM Card via Irancell Online Stores\n",
      "\n",
      "Original Class: |6_Postpaid SIM| & Predicted Class: |6_Postpaid SIM|\n",
      "Question: Can a customer cancel only one product from their purchase basket, or is it an all-or-nothing situation?\n",
      "Answer: You can only cancel your order at once\n",
      "\n",
      "Original Class: |5_Participate in auction| & Predicted Class: |5_Participate in auction|\n",
      "Question: Who is eligible to participate in the Irancell auction for golden numbers according to the general conditions?\n",
      "Answer: Subscribers\n",
      "\n",
      "Original Class: |2_Change of Ownership| & Predicted Class: |2_Change of Ownership|\n",
      "Question: The Customer undertakes to provide updated information and documents at the time of placing the order. In case any discrepancy is discovered at any stage, Irancell shall be entitled to avoid delivering the product or activating the service.‌‌‌\n",
      "Answer: seller will be held responsible for all possible SIM card misuses\n",
      "\n",
      "Original Class: |3_Economical Packages| & Predicted Class: |3_Economical Packages|\n",
      "Question: What is the maximum speed available for the Economical Package, and under what conditions does it apply?\n",
      "Answer: 512 Kbps\n",
      "\n"
     ]
    }
   ],
   "source": [
    "classes = ['1_3g4G modem',\n",
    "           '2_Change of Ownership',\n",
    "           '3_Economical Packages',\n",
    "           '4_FTTH Service',\n",
    "           '5_Participate in auction',\n",
    "           '6_Postpaid SIM',\n",
    "           '7_Prepaid SIM',\n",
    "           '8_TD-LTE modem']\n",
    "\n",
    "dataset_slice = original_questions_dataset.sample(10)\n",
    "sample_indexes = dataset_slice.index\n",
    "# sample_contexts = texts_dataset.iloc[sample_indexes]['text'.values]\n",
    "sample_questions = original_questions_dataset.iloc[sample_indexes]['question'].values\n",
    "sample_classes = original_questions_dataset.iloc[sample_indexes]['class'].values\n",
    "\n",
    "for index, question in enumerate(sample_questions):\n",
    "\n",
    "    original_question = question\n",
    "    preprocessed_question = preProcessing(original_question)\n",
    "\n",
    "    question_tokenized = tokenizer.texts_to_sequences([preprocessed_question])\n",
    "    question_padded = pad_sequences(question_tokenized, padding=pad_type,\n",
    "                                    truncating=trunc_type, maxlen=MAX_LEN)\n",
    "\n",
    "    question_class_probs = siamese_net(question_padded)\n",
    "    question_class = np.argmax(question_class_probs)\n",
    "    context = texts_dataset['text'][texts_dataset['class']\n",
    "                                    == question_class].values[0]\n",
    "\n",
    "    answer = QA_pipeline(question=original_question, context=context)\n",
    "    print(\n",
    "        f'Original Class: |{classes[sample_classes[index]-1]}| & Predicted Class: |{classes[question_class-1]}|')\n",
    "    print(f\"Question: {sample_questions[index]}\\nAnswer: {answer['answer']}\\n\")"
   ]
  }
 ],
 "metadata": {
  "kernelspec": {
   "display_name": "TensorFlow_GPU",
   "language": "python",
   "name": "python3"
  },
  "language_info": {
   "codemirror_mode": {
    "name": "ipython",
    "version": 3
   },
   "file_extension": ".py",
   "mimetype": "text/x-python",
   "name": "python",
   "nbconvert_exporter": "python",
   "pygments_lexer": "ipython3",
   "version": "3.10.0"
  }
 },
 "nbformat": 4,
 "nbformat_minor": 2
}
