{
  "cells": [
    {
      "cell_type": "code",
      "execution_count": 2,
      "metadata": {
        "id": "12cSSE4pfqNi"
      },
      "outputs": [],
      "source": [
        "import tensorflow as tf\n",
        "import numpy as np\n",
        "import pandas as pd\n",
        "import matplotlib.pyplot as plt\n",
        "from keras.layers import LSTM, Dense, Dropout, Input, Embedding, Bidirectional, Lambda, Conv1D\n",
        "from keras import Model\n",
        "from tensorflow.keras.preprocessing.text import Tokenizer\n",
        "from tensorflow.keras.preprocessing.sequence import pad_sequences\n",
        "from tqdm import tqdm\n",
        "from sklearn.model_selection import train_test_split\n",
        "from keras import backend as K\n",
        "from keras.utils import to_categorical\n",
        "from google.colab import drive\n",
        "drive.mount('/content/drive')"
      ]
    },
    {
      "cell_type": "code",
      "execution_count": null,
      "metadata": {
        "id": "29cMn6ebhXwh"
      },
      "outputs": [],
      "source": [
        "!pip install transformers\n",
        "from transformers import RobertaTokenizer, TFAutoModel, AdamWeightDecay"
      ]
    },
    {
      "cell_type": "code",
      "execution_count": 3,
      "metadata": {
        "colab": {
          "base_uri": "https://localhost:8080/",
          "height": 423
        },
        "id": "k4zARAJ4fqPt",
        "outputId": "ce1dc32c-6938-485b-eadd-325aae1035c2"
      },
      "outputs": [
        {
          "data": {
            "text/html": [
              "\n",
              "  <div id=\"df-f0d982d7-9715-412c-b712-55a8634e2dfd\" class=\"colab-df-container\">\n",
              "    <div>\n",
              "<style scoped>\n",
              "    .dataframe tbody tr th:only-of-type {\n",
              "        vertical-align: middle;\n",
              "    }\n",
              "\n",
              "    .dataframe tbody tr th {\n",
              "        vertical-align: top;\n",
              "    }\n",
              "\n",
              "    .dataframe thead th {\n",
              "        text-align: right;\n",
              "    }\n",
              "</style>\n",
              "<table border=\"1\" class=\"dataframe\">\n",
              "  <thead>\n",
              "    <tr style=\"text-align: right;\">\n",
              "      <th></th>\n",
              "      <th>question</th>\n",
              "      <th>class</th>\n",
              "    </tr>\n",
              "  </thead>\n",
              "  <tbody>\n",
              "    <tr>\n",
              "      <th>0</th>\n",
              "      <td>What is the customer obligated to do before pu...</td>\n",
              "      <td>1</td>\n",
              "    </tr>\n",
              "    <tr>\n",
              "      <th>1</th>\n",
              "      <td>What happens if the customer enters inaccurate...</td>\n",
              "      <td>1</td>\n",
              "    </tr>\n",
              "    <tr>\n",
              "      <th>2</th>\n",
              "      <td>What is the customer's responsibility at the t...</td>\n",
              "      <td>1</td>\n",
              "    </tr>\n",
              "    <tr>\n",
              "      <th>3</th>\n",
              "      <td>What should the customer avoid doing when rece...</td>\n",
              "      <td>1</td>\n",
              "    </tr>\n",
              "    <tr>\n",
              "      <th>4</th>\n",
              "      <td>What does the customer need to provide at the ...</td>\n",
              "      <td>1</td>\n",
              "    </tr>\n",
              "    <tr>\n",
              "      <th>...</th>\n",
              "      <td>...</td>\n",
              "      <td>...</td>\n",
              "    </tr>\n",
              "    <tr>\n",
              "      <th>1011</th>\n",
              "      <td>What is required for regular delivery, and how...</td>\n",
              "      <td>8</td>\n",
              "    </tr>\n",
              "    <tr>\n",
              "      <th>1012</th>\n",
              "      <td>What valid identity documents are acceptable f...</td>\n",
              "      <td>8</td>\n",
              "    </tr>\n",
              "    <tr>\n",
              "      <th>1013</th>\n",
              "      <td>What valid identity document is acceptable for...</td>\n",
              "      <td>8</td>\n",
              "    </tr>\n",
              "    <tr>\n",
              "      <th>1014</th>\n",
              "      <td>What actions can the Subscriber take if the po...</td>\n",
              "      <td>8</td>\n",
              "    </tr>\n",
              "    <tr>\n",
              "      <th>1015</th>\n",
              "      <td>How long does the customer have to wait for re...</td>\n",
              "      <td>8</td>\n",
              "    </tr>\n",
              "  </tbody>\n",
              "</table>\n",
              "<p>1016 rows × 2 columns</p>\n",
              "</div>\n",
              "    <div class=\"colab-df-buttons\">\n",
              "\n",
              "  <div class=\"colab-df-container\">\n",
              "    <button class=\"colab-df-convert\" onclick=\"convertToInteractive('df-f0d982d7-9715-412c-b712-55a8634e2dfd')\"\n",
              "            title=\"Convert this dataframe to an interactive table.\"\n",
              "            style=\"display:none;\">\n",
              "\n",
              "  <svg xmlns=\"http://www.w3.org/2000/svg\" height=\"24px\" viewBox=\"0 -960 960 960\">\n",
              "    <path d=\"M120-120v-720h720v720H120Zm60-500h600v-160H180v160Zm220 220h160v-160H400v160Zm0 220h160v-160H400v160ZM180-400h160v-160H180v160Zm440 0h160v-160H620v160ZM180-180h160v-160H180v160Zm440 0h160v-160H620v160Z\"/>\n",
              "  </svg>\n",
              "    </button>\n",
              "\n",
              "  <style>\n",
              "    .colab-df-container {\n",
              "      display:flex;\n",
              "      gap: 12px;\n",
              "    }\n",
              "\n",
              "    .colab-df-convert {\n",
              "      background-color: #E8F0FE;\n",
              "      border: none;\n",
              "      border-radius: 50%;\n",
              "      cursor: pointer;\n",
              "      display: none;\n",
              "      fill: #1967D2;\n",
              "      height: 32px;\n",
              "      padding: 0 0 0 0;\n",
              "      width: 32px;\n",
              "    }\n",
              "\n",
              "    .colab-df-convert:hover {\n",
              "      background-color: #E2EBFA;\n",
              "      box-shadow: 0px 1px 2px rgba(60, 64, 67, 0.3), 0px 1px 3px 1px rgba(60, 64, 67, 0.15);\n",
              "      fill: #174EA6;\n",
              "    }\n",
              "\n",
              "    .colab-df-buttons div {\n",
              "      margin-bottom: 4px;\n",
              "    }\n",
              "\n",
              "    [theme=dark] .colab-df-convert {\n",
              "      background-color: #3B4455;\n",
              "      fill: #D2E3FC;\n",
              "    }\n",
              "\n",
              "    [theme=dark] .colab-df-convert:hover {\n",
              "      background-color: #434B5C;\n",
              "      box-shadow: 0px 1px 3px 1px rgba(0, 0, 0, 0.15);\n",
              "      filter: drop-shadow(0px 1px 2px rgba(0, 0, 0, 0.3));\n",
              "      fill: #FFFFFF;\n",
              "    }\n",
              "  </style>\n",
              "\n",
              "    <script>\n",
              "      const buttonEl =\n",
              "        document.querySelector('#df-f0d982d7-9715-412c-b712-55a8634e2dfd button.colab-df-convert');\n",
              "      buttonEl.style.display =\n",
              "        google.colab.kernel.accessAllowed ? 'block' : 'none';\n",
              "\n",
              "      async function convertToInteractive(key) {\n",
              "        const element = document.querySelector('#df-f0d982d7-9715-412c-b712-55a8634e2dfd');\n",
              "        const dataTable =\n",
              "          await google.colab.kernel.invokeFunction('convertToInteractive',\n",
              "                                                    [key], {});\n",
              "        if (!dataTable) return;\n",
              "\n",
              "        const docLinkHtml = 'Like what you see? Visit the ' +\n",
              "          '<a target=\"_blank\" href=https://colab.research.google.com/notebooks/data_table.ipynb>data table notebook</a>'\n",
              "          + ' to learn more about interactive tables.';\n",
              "        element.innerHTML = '';\n",
              "        dataTable['output_type'] = 'display_data';\n",
              "        await google.colab.output.renderOutput(dataTable, element);\n",
              "        const docLink = document.createElement('div');\n",
              "        docLink.innerHTML = docLinkHtml;\n",
              "        element.appendChild(docLink);\n",
              "      }\n",
              "    </script>\n",
              "  </div>\n",
              "\n",
              "\n",
              "<div id=\"df-6f670c47-c282-4a9f-ad84-1dc015a08b8c\">\n",
              "  <button class=\"colab-df-quickchart\" onclick=\"quickchart('df-6f670c47-c282-4a9f-ad84-1dc015a08b8c')\"\n",
              "            title=\"Suggest charts\"\n",
              "            style=\"display:none;\">\n",
              "\n",
              "<svg xmlns=\"http://www.w3.org/2000/svg\" height=\"24px\"viewBox=\"0 0 24 24\"\n",
              "     width=\"24px\">\n",
              "    <g>\n",
              "        <path d=\"M19 3H5c-1.1 0-2 .9-2 2v14c0 1.1.9 2 2 2h14c1.1 0 2-.9 2-2V5c0-1.1-.9-2-2-2zM9 17H7v-7h2v7zm4 0h-2V7h2v10zm4 0h-2v-4h2v4z\"/>\n",
              "    </g>\n",
              "</svg>\n",
              "  </button>\n",
              "\n",
              "<style>\n",
              "  .colab-df-quickchart {\n",
              "      --bg-color: #E8F0FE;\n",
              "      --fill-color: #1967D2;\n",
              "      --hover-bg-color: #E2EBFA;\n",
              "      --hover-fill-color: #174EA6;\n",
              "      --disabled-fill-color: #AAA;\n",
              "      --disabled-bg-color: #DDD;\n",
              "  }\n",
              "\n",
              "  [theme=dark] .colab-df-quickchart {\n",
              "      --bg-color: #3B4455;\n",
              "      --fill-color: #D2E3FC;\n",
              "      --hover-bg-color: #434B5C;\n",
              "      --hover-fill-color: #FFFFFF;\n",
              "      --disabled-bg-color: #3B4455;\n",
              "      --disabled-fill-color: #666;\n",
              "  }\n",
              "\n",
              "  .colab-df-quickchart {\n",
              "    background-color: var(--bg-color);\n",
              "    border: none;\n",
              "    border-radius: 50%;\n",
              "    cursor: pointer;\n",
              "    display: none;\n",
              "    fill: var(--fill-color);\n",
              "    height: 32px;\n",
              "    padding: 0;\n",
              "    width: 32px;\n",
              "  }\n",
              "\n",
              "  .colab-df-quickchart:hover {\n",
              "    background-color: var(--hover-bg-color);\n",
              "    box-shadow: 0 1px 2px rgba(60, 64, 67, 0.3), 0 1px 3px 1px rgba(60, 64, 67, 0.15);\n",
              "    fill: var(--button-hover-fill-color);\n",
              "  }\n",
              "\n",
              "  .colab-df-quickchart-complete:disabled,\n",
              "  .colab-df-quickchart-complete:disabled:hover {\n",
              "    background-color: var(--disabled-bg-color);\n",
              "    fill: var(--disabled-fill-color);\n",
              "    box-shadow: none;\n",
              "  }\n",
              "\n",
              "  .colab-df-spinner {\n",
              "    border: 2px solid var(--fill-color);\n",
              "    border-color: transparent;\n",
              "    border-bottom-color: var(--fill-color);\n",
              "    animation:\n",
              "      spin 1s steps(1) infinite;\n",
              "  }\n",
              "\n",
              "  @keyframes spin {\n",
              "    0% {\n",
              "      border-color: transparent;\n",
              "      border-bottom-color: var(--fill-color);\n",
              "      border-left-color: var(--fill-color);\n",
              "    }\n",
              "    20% {\n",
              "      border-color: transparent;\n",
              "      border-left-color: var(--fill-color);\n",
              "      border-top-color: var(--fill-color);\n",
              "    }\n",
              "    30% {\n",
              "      border-color: transparent;\n",
              "      border-left-color: var(--fill-color);\n",
              "      border-top-color: var(--fill-color);\n",
              "      border-right-color: var(--fill-color);\n",
              "    }\n",
              "    40% {\n",
              "      border-color: transparent;\n",
              "      border-right-color: var(--fill-color);\n",
              "      border-top-color: var(--fill-color);\n",
              "    }\n",
              "    60% {\n",
              "      border-color: transparent;\n",
              "      border-right-color: var(--fill-color);\n",
              "    }\n",
              "    80% {\n",
              "      border-color: transparent;\n",
              "      border-right-color: var(--fill-color);\n",
              "      border-bottom-color: var(--fill-color);\n",
              "    }\n",
              "    90% {\n",
              "      border-color: transparent;\n",
              "      border-bottom-color: var(--fill-color);\n",
              "    }\n",
              "  }\n",
              "</style>\n",
              "\n",
              "  <script>\n",
              "    async function quickchart(key) {\n",
              "      const quickchartButtonEl =\n",
              "        document.querySelector('#' + key + ' button');\n",
              "      quickchartButtonEl.disabled = true;  // To prevent multiple clicks.\n",
              "      quickchartButtonEl.classList.add('colab-df-spinner');\n",
              "      try {\n",
              "        const charts = await google.colab.kernel.invokeFunction(\n",
              "            'suggestCharts', [key], {});\n",
              "      } catch (error) {\n",
              "        console.error('Error during call to suggestCharts:', error);\n",
              "      }\n",
              "      quickchartButtonEl.classList.remove('colab-df-spinner');\n",
              "      quickchartButtonEl.classList.add('colab-df-quickchart-complete');\n",
              "    }\n",
              "    (() => {\n",
              "      let quickchartButtonEl =\n",
              "        document.querySelector('#df-6f670c47-c282-4a9f-ad84-1dc015a08b8c button');\n",
              "      quickchartButtonEl.style.display =\n",
              "        google.colab.kernel.accessAllowed ? 'block' : 'none';\n",
              "    })();\n",
              "  </script>\n",
              "</div>\n",
              "    </div>\n",
              "  </div>\n"
            ],
            "text/plain": [
              "                                               question class\n",
              "0     What is the customer obligated to do before pu...     1\n",
              "1     What happens if the customer enters inaccurate...     1\n",
              "2     What is the customer's responsibility at the t...     1\n",
              "3     What should the customer avoid doing when rece...     1\n",
              "4     What does the customer need to provide at the ...     1\n",
              "...                                                 ...   ...\n",
              "1011  What is required for regular delivery, and how...     8\n",
              "1012  What valid identity documents are acceptable f...     8\n",
              "1013  What valid identity document is acceptable for...     8\n",
              "1014  What actions can the Subscriber take if the po...     8\n",
              "1015  How long does the customer have to wait for re...     8\n",
              "\n",
              "[1016 rows x 2 columns]"
            ]
          },
          "execution_count": 3,
          "metadata": {},
          "output_type": "execute_result"
        }
      ],
      "source": [
        "# preparin question/class datast to train Siamese Net\n",
        "\n",
        "dataset = pd.DataFrame(columns=['question', 'class'])\n",
        "paths = [r'/content/drive/MyDrive/ChatBot/questions/1_3g4G modem.txt',\n",
        "         r'/content/drive/MyDrive/ChatBot/questions/2_Change of Ownership.txt',\n",
        "         r'/content/drive/MyDrive/ChatBot/questions/3_Economical Packages.txt',\n",
        "         r'/content/drive/MyDrive/ChatBot/questions/4_FTTH Service.txt',\n",
        "         r'/content/drive/MyDrive/ChatBot/questions/5_Participate in auction.txt',\n",
        "         r'/content/drive/MyDrive/ChatBot/questions/6_Postpaid SIM.txt',\n",
        "         r'/content/drive/MyDrive/ChatBot/questions/7_Prepaid SIM.txt',\n",
        "         r'/content/drive/MyDrive/ChatBot/questions/8_TD-LTE modem.txt']\n",
        "\n",
        "for index, path in enumerate(paths):\n",
        "    tmp_dataset = pd.read_csv(path, sep='\\n\\n', header=None, engine='python')\n",
        "    tmp_dataset.columns = ['question']\n",
        "    tmp_dataset['class'] = index+1\n",
        "    dataset = pd.concat([dataset, tmp_dataset], ignore_index=True)\n",
        "\n",
        "dataset"
      ]
    },
    {
      "cell_type": "code",
      "execution_count": 54,
      "metadata": {
        "id": "HDu2p3xSfqRt"
      },
      "outputs": [],
      "source": [
        "SEQ_LEN = 40\n",
        "\n",
        "tokenizer = RobertaTokenizer.from_pretrained(\"roberta-base\")"
      ]
    },
    {
      "cell_type": "code",
      "execution_count": 52,
      "metadata": {
        "id": "NiedytCQiHKb"
      },
      "outputs": [],
      "source": [
        "x_train, x_test, y_train, y_test = train_test_split(\n",
        "    dataset['question'].values, dataset['class'].values, test_size=0.2, shuffle=True)"
      ]
    },
    {
      "cell_type": "code",
      "execution_count": 56,
      "metadata": {
        "colab": {
          "base_uri": "https://localhost:8080/"
        },
        "id": "8KSrqy94hkUO",
        "outputId": "f2f034d6-116e-4650-9b0a-c1a54420e107"
      },
      "outputs": [
        {
          "name": "stdout",
          "output_type": "stream",
          "text": [
            "812 812\n",
            "204 204\n",
            "[    0  2264   531    10  2111   109   137  4906    10  7463    12   574\n",
            "  6433 38533   309     7     5  1286  2788   116     2     1     1     1\n",
            "     1     1     1     1     1     1     1     1     1     1     1     1\n",
            "     1     1     1     1]\n"
          ]
        }
      ],
      "source": [
        "def tokenize(df):\n",
        "    input_ids = []\n",
        "    attention_masks = []\n",
        "\n",
        "    for i, text in enumerate(df):\n",
        "        tokens = tokenizer.encode_plus(text, max_length=SEQ_LEN,\n",
        "                                       truncation=True, padding='max_length',\n",
        "                                       add_special_tokens=True, return_attention_mask=True,\n",
        "                                       return_token_type_ids=False, return_tensors='tf')\n",
        "\n",
        "        input_ids.append(np.asarray(tokens[\"input_ids\"]).reshape(SEQ_LEN,))\n",
        "        attention_masks.append(np.asarray(\n",
        "            tokens[\"attention_mask\"]).reshape(SEQ_LEN,))\n",
        "\n",
        "    print(len(input_ids), len(attention_masks))\n",
        "    return (np.asarray(input_ids), np.asarray(attention_masks))\n",
        "\n",
        "\n",
        "train_input_ids, train_attention_masks = tokenize(x_train)\n",
        "valid_input_ids, valid_attention_masks = tokenize(x_test)\n",
        "\n",
        "print(train_input_ids[0])"
      ]
    },
    {
      "cell_type": "code",
      "execution_count": 57,
      "metadata": {
        "id": "xq9Pfo6Lfqav"
      },
      "outputs": [],
      "source": [
        "y_train = to_categorical(y_train)\n",
        "y_test = to_categorical(y_test)"
      ]
    },
    {
      "cell_type": "code",
      "execution_count": 23,
      "metadata": {
        "colab": {
          "base_uri": "https://localhost:8080/",
          "height": 159,
          "referenced_widgets": [
            "27c7866eab5148b783d8fc333248f0e4",
            "f6379138e9384b3abf8ce22c02261713",
            "5b81b191651f4866a7f0b06a72f7e25d",
            "64c23901a98d40bcabe7d52b63ea945f",
            "06fed4f79bf64e469f266b707776b6d5",
            "f885c4da447e42af8b4027d3029df214",
            "314f35dedea34d1a95287f95dc4d1c71",
            "bc75d94c189b48d7b9c084e75657544e",
            "47c4525fd23e47ca941b76c6fb5d1299",
            "ef6cdb28a1334b2b97b450a6422df5cc",
            "a5bba5edc0914e4da46ca5e9d9bd56c9"
          ]
        },
        "id": "aGggta95f-23",
        "outputId": "81934d86-23d3-4f38-945f-a97952c7b34b"
      },
      "outputs": [
        {
          "data": {
            "application/vnd.jupyter.widget-view+json": {
              "model_id": "27c7866eab5148b783d8fc333248f0e4",
              "version_major": 2,
              "version_minor": 0
            },
            "text/plain": [
              "model.safetensors:   0%|          | 0.00/499M [00:00<?, ?B/s]"
            ]
          },
          "metadata": {},
          "output_type": "display_data"
        },
        {
          "name": "stderr",
          "output_type": "stream",
          "text": [
            "Some weights of the PyTorch model were not used when initializing the TF 2.0 model TFRobertaModel: ['lm_head.layer_norm.weight', 'roberta.embeddings.position_ids', 'lm_head.layer_norm.bias', 'lm_head.dense.bias', 'lm_head.dense.weight', 'lm_head.bias']\n",
            "- This IS expected if you are initializing TFRobertaModel from a PyTorch model trained on another task or with another architecture (e.g. initializing a TFBertForSequenceClassification model from a BertForPreTraining model).\n",
            "- This IS NOT expected if you are initializing TFRobertaModel from a PyTorch model that you expect to be exactly identical (e.g. initializing a TFBertForSequenceClassification model from a BertForSequenceClassification model).\n",
            "Some weights or buffers of the TF 2.0 model TFRobertaModel were not initialized from the PyTorch model and are newly initialized: ['roberta.pooler.dense.weight', 'roberta.pooler.dense.bias']\n",
            "You should probably TRAIN this model on a down-stream task to be able to use it for predictions and inference.\n"
          ]
        }
      ],
      "source": [
        "roberta = TFAutoModel.from_pretrained(\"roberta-base\")"
      ]
    },
    {
      "cell_type": "code",
      "execution_count": 58,
      "metadata": {
        "colab": {
          "base_uri": "https://localhost:8080/"
        },
        "id": "90Yud1ECinws",
        "outputId": "cc42603c-a8b1-4964-a48b-abd5b1f3da14"
      },
      "outputs": [
        {
          "name": "stdout",
          "output_type": "stream",
          "text": [
            "Model: \"model_2\"\n",
            "__________________________________________________________________________________________________\n",
            " Layer (type)                Output Shape                 Param #   Connected to                  \n",
            "==================================================================================================\n",
            " input_ids (InputLayer)      [(None, 40)]                 0         []                            \n",
            "                                                                                                  \n",
            " attention_mask (InputLayer  [(None, 40)]                 0         []                            \n",
            " )                                                                                                \n",
            "                                                                                                  \n",
            " tf_roberta_model (TFRobert  TFBaseModelOutputWithPooli   1246456   ['input_ids[0][0]',           \n",
            " aModel)                     ngAndCrossAttentions(last_   32         'attention_mask[0][0]']      \n",
            "                             hidden_state=(None, 40, 76                                           \n",
            "                             8),                                                                  \n",
            "                              pooler_output=(None, 768)                                           \n",
            "                             , past_key_values=None, hi                                           \n",
            "                             dden_states=None, attentio                                           \n",
            "                             ns=None, cross_attentions=                                           \n",
            "                             None)                                                                \n",
            "                                                                                                  \n",
            " lstm_2 (LSTM)               (None, 128)                  459264    ['tf_roberta_model[2][0]']    \n",
            "                                                                                                  \n",
            " batch_normalization_2 (Bat  (None, 128)                  512       ['lstm_2[0][0]']              \n",
            " chNormalization)                                                                                 \n",
            "                                                                                                  \n",
            " dense_4 (Dense)             (None, 768)                  99072     ['batch_normalization_2[0][0]'\n",
            "                                                                    ]                             \n",
            "                                                                                                  \n",
            " activation_2 (Activation)   (None, 768)                  0         ['dense_4[0][0]']             \n",
            "                                                                                                  \n",
            " dense_5 (Dense)             (None, 768)                  590592    ['activation_2[0][0]']        \n",
            "                                                                                                  \n",
            " dropout_39 (Dropout)        (None, 768)                  0         ['dense_5[0][0]']             \n",
            "                                                                                                  \n",
            " outputs (Dense)             (None, 9)                    6921      ['dropout_39[0][0]']          \n",
            "                                                                                                  \n",
            "==================================================================================================\n",
            "Total params: 125801993 (479.90 MB)\n",
            "Trainable params: 1156105 (4.41 MB)\n",
            "Non-trainable params: 124645888 (475.49 MB)\n",
            "__________________________________________________________________________________________________\n"
          ]
        }
      ],
      "source": [
        "input_ids = tf.keras.layers.Input(\n",
        "    shape=(SEQ_LEN,), name='input_ids', dtype='int32')\n",
        "mask = tf.keras.layers.Input(\n",
        "    shape=(SEQ_LEN,), name='attention_mask', dtype='int32')\n",
        "\n",
        "embeddings = roberta(input_ids, attention_mask=mask)[0]\n",
        "\n",
        "X = tf.keras.layers.LSTM(128)(embeddings)\n",
        "X = tf.keras.layers.BatchNormalization()(X)\n",
        "X = tf.keras.layers.Dense(768)(X)\n",
        "X = tf.keras.layers.Activation(\"relu\")(X)\n",
        "X = tf.keras.layers.Dense(768)(X)\n",
        "X = tf.keras.layers.Dropout(0.1)(X)\n",
        "y = tf.keras.layers.Dense(9, activation='softmax', name='outputs')(X)\n",
        "\n",
        "model = tf.keras.Model(inputs=[input_ids, mask], outputs=y)\n",
        "model.layers[2].trainable = False\n",
        "model.summary()"
      ]
    },
    {
      "cell_type": "code",
      "execution_count": 62,
      "metadata": {
        "id": "5cIMrhAsgXi7"
      },
      "outputs": [],
      "source": [
        "optimizer = AdamWeightDecay(\n",
        "    2e-03, beta_1=0.8, beta_2=0.9, weight_decay_rate=0.0001)\n",
        "loss = tf.keras.losses.CategoricalCrossentropy()\n",
        "acc = tf.keras.metrics.CategoricalAccuracy('accuracy')\n",
        "\n",
        "model.compile(optimizer=optimizer, loss=loss, metrics=[acc])"
      ]
    },
    {
      "cell_type": "code",
      "execution_count": 63,
      "metadata": {
        "colab": {
          "base_uri": "https://localhost:8080/"
        },
        "id": "paU5qsi5f-xg",
        "outputId": "95d7b9b4-3da0-42a5-b0ec-04db3a4ae5d1"
      },
      "outputs": [
        {
          "name": "stdout",
          "output_type": "stream",
          "text": [
            "Epoch 1/20\n",
            "26/26 - 29s - loss: 0.5649 - accuracy: 0.7771 - val_loss: 1.7591 - val_accuracy: 0.6127 - 29s/epoch - 1s/step\n",
            "Epoch 2/20\n",
            "26/26 - 3s - loss: 0.5215 - accuracy: 0.7919 - val_loss: 2.3974 - val_accuracy: 0.5931 - 3s/epoch - 114ms/step\n",
            "Epoch 3/20\n",
            "26/26 - 3s - loss: 0.4698 - accuracy: 0.8239 - val_loss: 1.4890 - val_accuracy: 0.6422 - 3s/epoch - 114ms/step\n",
            "Epoch 4/20\n",
            "26/26 - 3s - loss: 0.5060 - accuracy: 0.8042 - val_loss: 1.5933 - val_accuracy: 0.6814 - 3s/epoch - 123ms/step\n",
            "Epoch 5/20\n",
            "26/26 - 3s - loss: 0.4567 - accuracy: 0.8116 - val_loss: 1.7120 - val_accuracy: 0.5784 - 3s/epoch - 119ms/step\n",
            "Epoch 6/20\n",
            "26/26 - 3s - loss: 0.4782 - accuracy: 0.8128 - val_loss: 1.8138 - val_accuracy: 0.6324 - 3s/epoch - 127ms/step\n",
            "Epoch 7/20\n",
            "26/26 - 3s - loss: 0.4453 - accuracy: 0.8374 - val_loss: 1.3525 - val_accuracy: 0.6422 - 3s/epoch - 113ms/step\n",
            "Epoch 8/20\n",
            "26/26 - 3s - loss: 0.5483 - accuracy: 0.8251 - val_loss: 1.3690 - val_accuracy: 0.6225 - 3s/epoch - 117ms/step\n",
            "Epoch 9/20\n",
            "26/26 - 3s - loss: 0.4067 - accuracy: 0.8288 - val_loss: 1.9836 - val_accuracy: 0.6324 - 3s/epoch - 127ms/step\n",
            "Epoch 10/20\n",
            "26/26 - 3s - loss: 0.4060 - accuracy: 0.8337 - val_loss: 1.3479 - val_accuracy: 0.6618 - 3s/epoch - 116ms/step\n",
            "Epoch 11/20\n",
            "26/26 - 3s - loss: 0.3681 - accuracy: 0.8559 - val_loss: 2.3124 - val_accuracy: 0.5686 - 3s/epoch - 126ms/step\n",
            "Epoch 12/20\n",
            "26/26 - 3s - loss: 0.3344 - accuracy: 0.8658 - val_loss: 2.5585 - val_accuracy: 0.6275 - 3s/epoch - 117ms/step\n",
            "Epoch 13/20\n",
            "26/26 - 3s - loss: 0.3936 - accuracy: 0.8436 - val_loss: 1.5433 - val_accuracy: 0.6422 - 3s/epoch - 123ms/step\n",
            "Epoch 14/20\n",
            "26/26 - 3s - loss: 0.3646 - accuracy: 0.8498 - val_loss: 1.9702 - val_accuracy: 0.6667 - 3s/epoch - 119ms/step\n",
            "Epoch 15/20\n",
            "26/26 - 3s - loss: 0.3920 - accuracy: 0.8436 - val_loss: 1.7469 - val_accuracy: 0.6471 - 3s/epoch - 115ms/step\n",
            "Epoch 16/20\n",
            "26/26 - 3s - loss: 0.3148 - accuracy: 0.8781 - val_loss: 2.1440 - val_accuracy: 0.6422 - 3s/epoch - 115ms/step\n",
            "Epoch 17/20\n",
            "26/26 - 3s - loss: 0.3522 - accuracy: 0.8682 - val_loss: 2.2808 - val_accuracy: 0.6667 - 3s/epoch - 115ms/step\n",
            "Epoch 18/20\n",
            "26/26 - 3s - loss: 0.3262 - accuracy: 0.8793 - val_loss: 2.9691 - val_accuracy: 0.6029 - 3s/epoch - 124ms/step\n",
            "Epoch 19/20\n",
            "26/26 - 3s - loss: 0.3399 - accuracy: 0.8744 - val_loss: 1.6831 - val_accuracy: 0.6471 - 3s/epoch - 119ms/step\n",
            "Epoch 20/20\n",
            "26/26 - 3s - loss: 0.3073 - accuracy: 0.8645 - val_loss: 2.1677 - val_accuracy: 0.6716 - 3s/epoch - 114ms/step\n"
          ]
        }
      ],
      "source": [
        "history = model.fit((train_input_ids, train_attention_masks),\n",
        "                    y_train,\n",
        "                    validation_data=(\n",
        "                        (valid_input_ids, valid_attention_masks), y_test),\n",
        "                    epochs=20,\n",
        "                    batch_size=32,\n",
        "                    verbose=2)"
      ]
    },
    {
      "cell_type": "code",
      "execution_count": 64,
      "metadata": {
        "colab": {
          "base_uri": "https://localhost:8080/",
          "height": 448
        },
        "id": "y-paT51Zf-tb",
        "outputId": "443c3903-bc45-433a-bcbe-0e30023e243b"
      },
      "outputs": [
        {
          "data": {
            "text/plain": [
              "[<matplotlib.lines.Line2D at 0x7f37041cdba0>]"
            ]
          },
          "execution_count": 64,
          "metadata": {},
          "output_type": "execute_result"
        },
        {
          "data": {
            "image/png": "[encoded data removed]",
            "text/plain": [
              "<Figure size 640x480 with 1 Axes>"
            ]
          },
          "metadata": {},
          "output_type": "display_data"
        }
      ],
      "source": [
        "plt.plot(history.history['accuracy'])\n",
        "plt.plot(history.history['val_accuracy'])"
      ]
    },
    {
      "cell_type": "code",
      "execution_count": 65,
      "metadata": {
        "colab": {
          "base_uri": "https://localhost:8080/",
          "height": 448
        },
        "id": "iIZoHLWmlMI3",
        "outputId": "734f4b96-1c29-43a6-9e46-c652b308634a"
      },
      "outputs": [
        {
          "data": {
            "text/plain": [
              "[<matplotlib.lines.Line2D at 0x7f3710fa93f0>]"
            ]
          },
          "execution_count": 65,
          "metadata": {},
          "output_type": "execute_result"
        },
        {
          "data": {
            "image/png": "[encoded data removed]",
            "text/plain": [
              "<Figure size 640x480 with 1 Axes>"
            ]
          },
          "metadata": {},
          "output_type": "display_data"
        }
      ],
      "source": [
        "plt.plot(history.history['loss'])\n",
        "plt.plot(history.history['val_loss'])"
      ]
    },
    {
      "cell_type": "code",
      "execution_count": null,
      "metadata": {
        "id": "ovJoJgH8lMFe"
      },
      "outputs": [],
      "source": []
    },
    {
      "cell_type": "code",
      "execution_count": null,
      "metadata": {
        "id": "Kmnq3gF-lMDY"
      },
      "outputs": [],
      "source": []
    },
    {
      "cell_type": "code",
      "execution_count": null,
      "metadata": {
        "id": "SxfGx0iSf-rj"
      },
      "outputs": [],
      "source": []
    }
  ],
  "metadata": {
    "accelerator": "GPU",
    "colab": {
      "gpuType": "T4",
      "provenance": []
    },
    "kernelspec": {
      "display_name": "Python 3",
      "name": "python3"
    },
    "language_info": {
      "name": "python"
    },
    "widgets": {
      "application/vnd.jupyter.widget-state+json": {
        "06fed4f79bf64e469f266b707776b6d5": {
          "model_module": "@jupyter-widgets/base",
          "model_module_version": "1.2.0",
          "model_name": "LayoutModel",
          "state": {
            "_model_module": "@jupyter-widgets/base",
            "_model_module_version": "1.2.0",
            "_model_name": "LayoutModel",
            "_view_count": null,
            "_view_module": "@jupyter-widgets/base",
            "_view_module_version": "1.2.0",
            "_view_name": "LayoutView",
            "align_content": null,
            "align_items": null,
            "align_self": null,
            "border": null,
            "bottom": null,
            "display": null,
            "flex": null,
            "flex_flow": null,
            "grid_area": null,
            "grid_auto_columns": null,
            "grid_auto_flow": null,
            "grid_auto_rows": null,
            "grid_column": null,
            "grid_gap": null,
            "grid_row": null,
            "grid_template_areas": null,
            "grid_template_columns": null,
            "grid_template_rows": null,
            "height": null,
            "justify_content": null,
            "justify_items": null,
            "left": null,
            "margin": null,
            "max_height": null,
            "max_width": null,
            "min_height": null,
            "min_width": null,
            "object_fit": null,
            "object_position": null,
            "order": null,
            "overflow": null,
            "overflow_x": null,
            "overflow_y": null,
            "padding": null,
            "right": null,
            "top": null,
            "visibility": null,
            "width": null
          }
        },
        "27c7866eab5148b783d8fc333248f0e4": {
          "model_module": "@jupyter-widgets/controls",
          "model_module_version": "1.5.0",
          "model_name": "HBoxModel",
          "state": {
            "_dom_classes": [],
            "_model_module": "@jupyter-widgets/controls",
            "_model_module_version": "1.5.0",
            "_model_name": "HBoxModel",
            "_view_count": null,
            "_view_module": "@jupyter-widgets/controls",
            "_view_module_version": "1.5.0",
            "_view_name": "HBoxView",
            "box_style": "",
            "children": [
              "IPY_MODEL_f6379138e9384b3abf8ce22c02261713",
              "IPY_MODEL_5b81b191651f4866a7f0b06a72f7e25d",
              "IPY_MODEL_64c23901a98d40bcabe7d52b63ea945f"
            ],
            "layout": "IPY_MODEL_06fed4f79bf64e469f266b707776b6d5"
          }
        },
        "314f35dedea34d1a95287f95dc4d1c71": {
          "model_module": "@jupyter-widgets/controls",
          "model_module_version": "1.5.0",
          "model_name": "DescriptionStyleModel",
          "state": {
            "_model_module": "@jupyter-widgets/controls",
            "_model_module_version": "1.5.0",
            "_model_name": "DescriptionStyleModel",
            "_view_count": null,
            "_view_module": "@jupyter-widgets/base",
            "_view_module_version": "1.2.0",
            "_view_name": "StyleView",
            "description_width": ""
          }
        },
        "47c4525fd23e47ca941b76c6fb5d1299": {
          "model_module": "@jupyter-widgets/controls",
          "model_module_version": "1.5.0",
          "model_name": "ProgressStyleModel",
          "state": {
            "_model_module": "@jupyter-widgets/controls",
            "_model_module_version": "1.5.0",
            "_model_name": "ProgressStyleModel",
            "_view_count": null,
            "_view_module": "@jupyter-widgets/base",
            "_view_module_version": "1.2.0",
            "_view_name": "StyleView",
            "bar_color": null,
            "description_width": ""
          }
        },
        "5b81b191651f4866a7f0b06a72f7e25d": {
          "model_module": "@jupyter-widgets/controls",
          "model_module_version": "1.5.0",
          "model_name": "FloatProgressModel",
          "state": {
            "_dom_classes": [],
            "_model_module": "@jupyter-widgets/controls",
            "_model_module_version": "1.5.0",
            "_model_name": "FloatProgressModel",
            "_view_count": null,
            "_view_module": "@jupyter-widgets/controls",
            "_view_module_version": "1.5.0",
            "_view_name": "ProgressView",
            "bar_style": "success",
            "description": "",
            "description_tooltip": null,
            "layout": "IPY_MODEL_bc75d94c189b48d7b9c084e75657544e",
            "max": 498818054,
            "min": 0,
            "orientation": "horizontal",
            "style": "IPY_MODEL_47c4525fd23e47ca941b76c6fb5d1299",
            "value": 498818054
          }
        },
        "64c23901a98d40bcabe7d52b63ea945f": {
          "model_module": "@jupyter-widgets/controls",
          "model_module_version": "1.5.0",
          "model_name": "HTMLModel",
          "state": {
            "_dom_classes": [],
            "_model_module": "@jupyter-widgets/controls",
            "_model_module_version": "1.5.0",
            "_model_name": "HTMLModel",
            "_view_count": null,
            "_view_module": "@jupyter-widgets/controls",
            "_view_module_version": "1.5.0",
            "_view_name": "HTMLView",
            "description": "",
            "description_tooltip": null,
            "layout": "IPY_MODEL_ef6cdb28a1334b2b97b450a6422df5cc",
            "placeholder": "​",
            "style": "IPY_MODEL_a5bba5edc0914e4da46ca5e9d9bd56c9",
            "value": " 499M/499M [00:03&lt;00:00, 110MB/s]"
          }
        },
        "a5bba5edc0914e4da46ca5e9d9bd56c9": {
          "model_module": "@jupyter-widgets/controls",
          "model_module_version": "1.5.0",
          "model_name": "DescriptionStyleModel",
          "state": {
            "_model_module": "@jupyter-widgets/controls",
            "_model_module_version": "1.5.0",
            "_model_name": "DescriptionStyleModel",
            "_view_count": null,
            "_view_module": "@jupyter-widgets/base",
            "_view_module_version": "1.2.0",
            "_view_name": "StyleView",
            "description_width": ""
          }
        },
        "bc75d94c189b48d7b9c084e75657544e": {
          "model_module": "@jupyter-widgets/base",
          "model_module_version": "1.2.0",
          "model_name": "LayoutModel",
          "state": {
            "_model_module": "@jupyter-widgets/base",
            "_model_module_version": "1.2.0",
            "_model_name": "LayoutModel",
            "_view_count": null,
            "_view_module": "@jupyter-widgets/base",
            "_view_module_version": "1.2.0",
            "_view_name": "LayoutView",
            "align_content": null,
            "align_items": null,
            "align_self": null,
            "border": null,
            "bottom": null,
            "display": null,
            "flex": null,
            "flex_flow": null,
            "grid_area": null,
            "grid_auto_columns": null,
            "grid_auto_flow": null,
            "grid_auto_rows": null,
            "grid_column": null,
            "grid_gap": null,
            "grid_row": null,
            "grid_template_areas": null,
            "grid_template_columns": null,
            "grid_template_rows": null,
            "height": null,
            "justify_content": null,
            "justify_items": null,
            "left": null,
            "margin": null,
            "max_height": null,
            "max_width": null,
            "min_height": null,
            "min_width": null,
            "object_fit": null,
            "object_position": null,
            "order": null,
            "overflow": null,
            "overflow_x": null,
            "overflow_y": null,
            "padding": null,
            "right": null,
            "top": null,
            "visibility": null,
            "width": null
          }
        },
        "ef6cdb28a1334b2b97b450a6422df5cc": {
          "model_module": "@jupyter-widgets/base",
          "model_module_version": "1.2.0",
          "model_name": "LayoutModel",
          "state": {
            "_model_module": "@jupyter-widgets/base",
            "_model_module_version": "1.2.0",
            "_model_name": "LayoutModel",
            "_view_count": null,
            "_view_module": "@jupyter-widgets/base",
            "_view_module_version": "1.2.0",
            "_view_name": "LayoutView",
            "align_content": null,
            "align_items": null,
            "align_self": null,
            "border": null,
            "bottom": null,
            "display": null,
            "flex": null,
            "flex_flow": null,
            "grid_area": null,
            "grid_auto_columns": null,
            "grid_auto_flow": null,
            "grid_auto_rows": null,
            "grid_column": null,
            "grid_gap": null,
            "grid_row": null,
            "grid_template_areas": null,
            "grid_template_columns": null,
            "grid_template_rows": null,
            "height": null,
            "justify_content": null,
            "justify_items": null,
            "left": null,
            "margin": null,
            "max_height": null,
            "max_width": null,
            "min_height": null,
            "min_width": null,
            "object_fit": null,
            "object_position": null,
            "order": null,
            "overflow": null,
            "overflow_x": null,
            "overflow_y": null,
            "padding": null,
            "right": null,
            "top": null,
            "visibility": null,
            "width": null
          }
        },
        "f6379138e9384b3abf8ce22c02261713": {
          "model_module": "@jupyter-widgets/controls",
          "model_module_version": "1.5.0",
          "model_name": "HTMLModel",
          "state": {
            "_dom_classes": [],
            "_model_module": "@jupyter-widgets/controls",
            "_model_module_version": "1.5.0",
            "_model_name": "HTMLModel",
            "_view_count": null,
            "_view_module": "@jupyter-widgets/controls",
            "_view_module_version": "1.5.0",
            "_view_name": "HTMLView",
            "description": "",
            "description_tooltip": null,
            "layout": "IPY_MODEL_f885c4da447e42af8b4027d3029df214",
            "placeholder": "​",
            "style": "IPY_MODEL_314f35dedea34d1a95287f95dc4d1c71",
            "value": "model.safetensors: 100%"
          }
        },
        "f885c4da447e42af8b4027d3029df214": {
          "model_module": "@jupyter-widgets/base",
          "model_module_version": "1.2.0",
          "model_name": "LayoutModel",
          "state": {
            "_model_module": "@jupyter-widgets/base",
            "_model_module_version": "1.2.0",
            "_model_name": "LayoutModel",
            "_view_count": null,
            "_view_module": "@jupyter-widgets/base",
            "_view_module_version": "1.2.0",
            "_view_name": "LayoutView",
            "align_content": null,
            "align_items": null,
            "align_self": null,
            "border": null,
            "bottom": null,
            "display": null,
            "flex": null,
            "flex_flow": null,
            "grid_area": null,
            "grid_auto_columns": null,
            "grid_auto_flow": null,
            "grid_auto_rows": null,
            "grid_column": null,
            "grid_gap": null,
            "grid_row": null,
            "grid_template_areas": null,
            "grid_template_columns": null,
            "grid_template_rows": null,
            "height": null,
            "justify_content": null,
            "justify_items": null,
            "left": null,
            "margin": null,
            "max_height": null,
            "max_width": null,
            "min_height": null,
            "min_width": null,
            "object_fit": null,
            "object_position": null,
            "order": null,
            "overflow": null,
            "overflow_x": null,
            "overflow_y": null,
            "padding": null,
            "right": null,
            "top": null,
            "visibility": null,
            "width": null
          }
        }
      }
    }
  },
  "nbformat": 4,
  "nbformat_minor": 0
}
